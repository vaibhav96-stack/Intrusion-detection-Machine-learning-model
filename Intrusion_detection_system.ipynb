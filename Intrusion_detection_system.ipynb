{
  "cells": [
    {
      "cell_type": "code",
      "execution_count": null,
      "metadata": {
        "colab": {
          "base_uri": "https://localhost:8080/"
        },
        "id": "LpLyBJI_M8y1",
        "outputId": "b1e7bab1-4ef9-4239-ab75-bc94a304af1a"
      },
      "outputs": [
        {
          "output_type": "stream",
          "name": "stdout",
          "text": [
            "Requirement already satisfied: kaggle in /usr/local/lib/python3.7/dist-packages (1.5.12)\n",
            "Requirement already satisfied: python-slugify in /usr/local/lib/python3.7/dist-packages (from kaggle) (6.1.1)\n",
            "Requirement already satisfied: python-dateutil in /usr/local/lib/python3.7/dist-packages (from kaggle) (2.8.2)\n",
            "Requirement already satisfied: urllib3 in /usr/local/lib/python3.7/dist-packages (from kaggle) (1.24.3)\n",
            "Requirement already satisfied: tqdm in /usr/local/lib/python3.7/dist-packages (from kaggle) (4.64.0)\n",
            "Requirement already satisfied: certifi in /usr/local/lib/python3.7/dist-packages (from kaggle) (2021.10.8)\n",
            "Requirement already satisfied: six>=1.10 in /usr/local/lib/python3.7/dist-packages (from kaggle) (1.15.0)\n",
            "Requirement already satisfied: requests in /usr/local/lib/python3.7/dist-packages (from kaggle) (2.23.0)\n",
            "Requirement already satisfied: text-unidecode>=1.3 in /usr/local/lib/python3.7/dist-packages (from python-slugify->kaggle) (1.3)\n",
            "Requirement already satisfied: chardet<4,>=3.0.2 in /usr/local/lib/python3.7/dist-packages (from requests->kaggle) (3.0.4)\n",
            "Requirement already satisfied: idna<3,>=2.5 in /usr/local/lib/python3.7/dist-packages (from requests->kaggle) (2.10)\n"
          ]
        }
      ],
      "source": [
        "! pip install kaggle"
      ]
    },
    {
      "cell_type": "code",
      "execution_count": null,
      "metadata": {
        "id": "Lxq08QzjNhkg"
      },
      "outputs": [],
      "source": [
        "! mkdir ~/.kaggle"
      ]
    },
    {
      "cell_type": "code",
      "execution_count": null,
      "metadata": {
        "id": "LO4LTQyLNhmJ"
      },
      "outputs": [],
      "source": [
        "! cp kaggle.json ~/.kaggle/"
      ]
    },
    {
      "cell_type": "code",
      "execution_count": null,
      "metadata": {
        "id": "x7bYapzUNhqW"
      },
      "outputs": [],
      "source": [
        "! chmod 600 ~/.kaggle/kaggle.json"
      ]
    },
    {
      "cell_type": "code",
      "execution_count": null,
      "metadata": {
        "colab": {
          "base_uri": "https://localhost:8080/"
        },
        "id": "NPxDhtDfNhr7",
        "outputId": "24ed4622-c9cc-4790-9ee8-1ead630eb13e"
      },
      "outputs": [
        {
          "output_type": "stream",
          "name": "stdout",
          "text": [
            "Downloading idsintrusioncsvmodified.zip to /content\n",
            "100% 1.59G/1.60G [00:10<00:00, 133MB/s]\n",
            "100% 1.60G/1.60G [00:10<00:00, 160MB/s]\n"
          ]
        }
      ],
      "source": [
        "! kaggle datasets download bmabhinav889/idsintrusioncsvmodified"
      ]
    },
    {
      "cell_type": "code",
      "execution_count": null,
      "metadata": {
        "colab": {
          "base_uri": "https://localhost:8080/"
        },
        "id": "vT9TvjYBNhw0",
        "outputId": "51270de0-7e85-4752-ef8e-141b7da04ddf"
      },
      "outputs": [
        {
          "output_type": "stream",
          "name": "stdout",
          "text": [
            "Archive:  /content/idsintrusioncsvmodified.zip\n",
            "  inflating: new/02-14-2018.csv      \n",
            "  inflating: new/02-15-2018.csv      \n",
            "  inflating: new/02-16-2018.csv      \n",
            "  inflating: new/02-20-2018.csv      \n",
            "  inflating: new/02-21-2018.csv      \n",
            "  inflating: new/02-22-2018.csv      \n",
            "  inflating: new/02-23-2018.csv      \n",
            "  inflating: new/02-28-2018.csv      \n",
            "  inflating: new/03-01-2018.csv      \n",
            "  inflating: new/03-02-2018.csv      \n"
          ]
        }
      ],
      "source": [
        "! unzip /content/idsintrusioncsvmodified.zip"
      ]
    },
    {
      "cell_type": "markdown",
      "metadata": {
        "id": "1S234TcRQASm"
      },
      "source": [
        "Merge and read multiple csv file as single"
      ]
    },
    {
      "cell_type": "code",
      "execution_count": null,
      "metadata": {
        "id": "gC2AF-kEOMQn"
      },
      "outputs": [],
      "source": [
        "'''\n",
        "import os\n",
        "import pandas as pd\n",
        "arr=[]\n",
        "c=0\n",
        "directory = '/content/new'\n",
        "for filename in os.listdir(directory):\n",
        "    f = os.path.join(directory, filename)\n",
        "    if f!='/content/new/.ipynb_checkpoints':\n",
        "      df_temp=pd.read_csv(f)\n",
        "      arr.append(df_temp)\n",
        "      c+=1\n",
        "      if c==3:\n",
        "        break\n",
        "df = pd.concat(arr)\n",
        "df.head()\n",
        "'''\n",
        "    \n"
      ]
    },
    {
      "cell_type": "code",
      "execution_count": null,
      "metadata": {
        "colab": {
          "base_uri": "https://localhost:8080/",
          "height": 384
        },
        "id": "SlGWjYORP9WH",
        "outputId": "008ad3ba-9202-4248-8cfb-4dc3a6285f2e"
      },
      "outputs": [
        {
          "output_type": "execute_result",
          "data": {
            "text/plain": [
              "   Dst Port  Protocol            Timestamp  Flow Duration  Tot Fwd Pkts  \\\n",
              "0         0         0  14/02/2018 08:31:01      112641719             3   \n",
              "1         0         0  14/02/2018 08:33:50      112641466             3   \n",
              "2         0         0  14/02/2018 08:36:39      112638623             3   \n",
              "3        22         6  14/02/2018 08:40:13        6453966            15   \n",
              "4        22         6  14/02/2018 08:40:23        8804066            14   \n",
              "\n",
              "   Tot Bwd Pkts  TotLen Fwd Pkts  TotLen Bwd Pkts  Fwd Pkt Len Max  \\\n",
              "0             0                0                0                0   \n",
              "1             0                0                0                0   \n",
              "2             0                0                0                0   \n",
              "3            10             1239             2273              744   \n",
              "4            11             1143             2209              744   \n",
              "\n",
              "   Fwd Pkt Len Min  ...  Fwd Seg Size Min  Active Mean  Active Std  \\\n",
              "0                0  ...                 0          0.0         0.0   \n",
              "1                0  ...                 0          0.0         0.0   \n",
              "2                0  ...                 0          0.0         0.0   \n",
              "3                0  ...                32          0.0         0.0   \n",
              "4                0  ...                32          0.0         0.0   \n",
              "\n",
              "   Active Max  Active Min   Idle Mean    Idle Std  Idle Max  Idle Min   Label  \n",
              "0           0           0  56320859.5  139.300036  56320958  56320761  Benign  \n",
              "1           0           0  56320733.0  114.551299  56320814  56320652  Benign  \n",
              "2           0           0  56319311.5  301.934596  56319525  56319098  Benign  \n",
              "3           0           0         0.0    0.000000         0         0  Benign  \n",
              "4           0           0         0.0    0.000000         0         0  Benign  \n",
              "\n",
              "[5 rows x 80 columns]"
            ],
            "text/html": [
              "\n",
              "  <div id=\"df-d6e7b642-1bd8-4a7d-82f4-b93009d2080c\">\n",
              "    <div class=\"colab-df-container\">\n",
              "      <div>\n",
              "<style scoped>\n",
              "    .dataframe tbody tr th:only-of-type {\n",
              "        vertical-align: middle;\n",
              "    }\n",
              "\n",
              "    .dataframe tbody tr th {\n",
              "        vertical-align: top;\n",
              "    }\n",
              "\n",
              "    .dataframe thead th {\n",
              "        text-align: right;\n",
              "    }\n",
              "</style>\n",
              "<table border=\"1\" class=\"dataframe\">\n",
              "  <thead>\n",
              "    <tr style=\"text-align: right;\">\n",
              "      <th></th>\n",
              "      <th>Dst Port</th>\n",
              "      <th>Protocol</th>\n",
              "      <th>Timestamp</th>\n",
              "      <th>Flow Duration</th>\n",
              "      <th>Tot Fwd Pkts</th>\n",
              "      <th>Tot Bwd Pkts</th>\n",
              "      <th>TotLen Fwd Pkts</th>\n",
              "      <th>TotLen Bwd Pkts</th>\n",
              "      <th>Fwd Pkt Len Max</th>\n",
              "      <th>Fwd Pkt Len Min</th>\n",
              "      <th>...</th>\n",
              "      <th>Fwd Seg Size Min</th>\n",
              "      <th>Active Mean</th>\n",
              "      <th>Active Std</th>\n",
              "      <th>Active Max</th>\n",
              "      <th>Active Min</th>\n",
              "      <th>Idle Mean</th>\n",
              "      <th>Idle Std</th>\n",
              "      <th>Idle Max</th>\n",
              "      <th>Idle Min</th>\n",
              "      <th>Label</th>\n",
              "    </tr>\n",
              "  </thead>\n",
              "  <tbody>\n",
              "    <tr>\n",
              "      <th>0</th>\n",
              "      <td>0</td>\n",
              "      <td>0</td>\n",
              "      <td>14/02/2018 08:31:01</td>\n",
              "      <td>112641719</td>\n",
              "      <td>3</td>\n",
              "      <td>0</td>\n",
              "      <td>0</td>\n",
              "      <td>0</td>\n",
              "      <td>0</td>\n",
              "      <td>0</td>\n",
              "      <td>...</td>\n",
              "      <td>0</td>\n",
              "      <td>0.0</td>\n",
              "      <td>0.0</td>\n",
              "      <td>0</td>\n",
              "      <td>0</td>\n",
              "      <td>56320859.5</td>\n",
              "      <td>139.300036</td>\n",
              "      <td>56320958</td>\n",
              "      <td>56320761</td>\n",
              "      <td>Benign</td>\n",
              "    </tr>\n",
              "    <tr>\n",
              "      <th>1</th>\n",
              "      <td>0</td>\n",
              "      <td>0</td>\n",
              "      <td>14/02/2018 08:33:50</td>\n",
              "      <td>112641466</td>\n",
              "      <td>3</td>\n",
              "      <td>0</td>\n",
              "      <td>0</td>\n",
              "      <td>0</td>\n",
              "      <td>0</td>\n",
              "      <td>0</td>\n",
              "      <td>...</td>\n",
              "      <td>0</td>\n",
              "      <td>0.0</td>\n",
              "      <td>0.0</td>\n",
              "      <td>0</td>\n",
              "      <td>0</td>\n",
              "      <td>56320733.0</td>\n",
              "      <td>114.551299</td>\n",
              "      <td>56320814</td>\n",
              "      <td>56320652</td>\n",
              "      <td>Benign</td>\n",
              "    </tr>\n",
              "    <tr>\n",
              "      <th>2</th>\n",
              "      <td>0</td>\n",
              "      <td>0</td>\n",
              "      <td>14/02/2018 08:36:39</td>\n",
              "      <td>112638623</td>\n",
              "      <td>3</td>\n",
              "      <td>0</td>\n",
              "      <td>0</td>\n",
              "      <td>0</td>\n",
              "      <td>0</td>\n",
              "      <td>0</td>\n",
              "      <td>...</td>\n",
              "      <td>0</td>\n",
              "      <td>0.0</td>\n",
              "      <td>0.0</td>\n",
              "      <td>0</td>\n",
              "      <td>0</td>\n",
              "      <td>56319311.5</td>\n",
              "      <td>301.934596</td>\n",
              "      <td>56319525</td>\n",
              "      <td>56319098</td>\n",
              "      <td>Benign</td>\n",
              "    </tr>\n",
              "    <tr>\n",
              "      <th>3</th>\n",
              "      <td>22</td>\n",
              "      <td>6</td>\n",
              "      <td>14/02/2018 08:40:13</td>\n",
              "      <td>6453966</td>\n",
              "      <td>15</td>\n",
              "      <td>10</td>\n",
              "      <td>1239</td>\n",
              "      <td>2273</td>\n",
              "      <td>744</td>\n",
              "      <td>0</td>\n",
              "      <td>...</td>\n",
              "      <td>32</td>\n",
              "      <td>0.0</td>\n",
              "      <td>0.0</td>\n",
              "      <td>0</td>\n",
              "      <td>0</td>\n",
              "      <td>0.0</td>\n",
              "      <td>0.000000</td>\n",
              "      <td>0</td>\n",
              "      <td>0</td>\n",
              "      <td>Benign</td>\n",
              "    </tr>\n",
              "    <tr>\n",
              "      <th>4</th>\n",
              "      <td>22</td>\n",
              "      <td>6</td>\n",
              "      <td>14/02/2018 08:40:23</td>\n",
              "      <td>8804066</td>\n",
              "      <td>14</td>\n",
              "      <td>11</td>\n",
              "      <td>1143</td>\n",
              "      <td>2209</td>\n",
              "      <td>744</td>\n",
              "      <td>0</td>\n",
              "      <td>...</td>\n",
              "      <td>32</td>\n",
              "      <td>0.0</td>\n",
              "      <td>0.0</td>\n",
              "      <td>0</td>\n",
              "      <td>0</td>\n",
              "      <td>0.0</td>\n",
              "      <td>0.000000</td>\n",
              "      <td>0</td>\n",
              "      <td>0</td>\n",
              "      <td>Benign</td>\n",
              "    </tr>\n",
              "  </tbody>\n",
              "</table>\n",
              "<p>5 rows × 80 columns</p>\n",
              "</div>\n",
              "      <button class=\"colab-df-convert\" onclick=\"convertToInteractive('df-d6e7b642-1bd8-4a7d-82f4-b93009d2080c')\"\n",
              "              title=\"Convert this dataframe to an interactive table.\"\n",
              "              style=\"display:none;\">\n",
              "        \n",
              "  <svg xmlns=\"http://www.w3.org/2000/svg\" height=\"24px\"viewBox=\"0 0 24 24\"\n",
              "       width=\"24px\">\n",
              "    <path d=\"M0 0h24v24H0V0z\" fill=\"none\"/>\n",
              "    <path d=\"M18.56 5.44l.94 2.06.94-2.06 2.06-.94-2.06-.94-.94-2.06-.94 2.06-2.06.94zm-11 1L8.5 8.5l.94-2.06 2.06-.94-2.06-.94L8.5 2.5l-.94 2.06-2.06.94zm10 10l.94 2.06.94-2.06 2.06-.94-2.06-.94-.94-2.06-.94 2.06-2.06.94z\"/><path d=\"M17.41 7.96l-1.37-1.37c-.4-.4-.92-.59-1.43-.59-.52 0-1.04.2-1.43.59L10.3 9.45l-7.72 7.72c-.78.78-.78 2.05 0 2.83L4 21.41c.39.39.9.59 1.41.59.51 0 1.02-.2 1.41-.59l7.78-7.78 2.81-2.81c.8-.78.8-2.07 0-2.86zM5.41 20L4 18.59l7.72-7.72 1.47 1.35L5.41 20z\"/>\n",
              "  </svg>\n",
              "      </button>\n",
              "      \n",
              "  <style>\n",
              "    .colab-df-container {\n",
              "      display:flex;\n",
              "      flex-wrap:wrap;\n",
              "      gap: 12px;\n",
              "    }\n",
              "\n",
              "    .colab-df-convert {\n",
              "      background-color: #E8F0FE;\n",
              "      border: none;\n",
              "      border-radius: 50%;\n",
              "      cursor: pointer;\n",
              "      display: none;\n",
              "      fill: #1967D2;\n",
              "      height: 32px;\n",
              "      padding: 0 0 0 0;\n",
              "      width: 32px;\n",
              "    }\n",
              "\n",
              "    .colab-df-convert:hover {\n",
              "      background-color: #E2EBFA;\n",
              "      box-shadow: 0px 1px 2px rgba(60, 64, 67, 0.3), 0px 1px 3px 1px rgba(60, 64, 67, 0.15);\n",
              "      fill: #174EA6;\n",
              "    }\n",
              "\n",
              "    [theme=dark] .colab-df-convert {\n",
              "      background-color: #3B4455;\n",
              "      fill: #D2E3FC;\n",
              "    }\n",
              "\n",
              "    [theme=dark] .colab-df-convert:hover {\n",
              "      background-color: #434B5C;\n",
              "      box-shadow: 0px 1px 3px 1px rgba(0, 0, 0, 0.15);\n",
              "      filter: drop-shadow(0px 1px 2px rgba(0, 0, 0, 0.3));\n",
              "      fill: #FFFFFF;\n",
              "    }\n",
              "  </style>\n",
              "\n",
              "      <script>\n",
              "        const buttonEl =\n",
              "          document.querySelector('#df-d6e7b642-1bd8-4a7d-82f4-b93009d2080c button.colab-df-convert');\n",
              "        buttonEl.style.display =\n",
              "          google.colab.kernel.accessAllowed ? 'block' : 'none';\n",
              "\n",
              "        async function convertToInteractive(key) {\n",
              "          const element = document.querySelector('#df-d6e7b642-1bd8-4a7d-82f4-b93009d2080c');\n",
              "          const dataTable =\n",
              "            await google.colab.kernel.invokeFunction('convertToInteractive',\n",
              "                                                     [key], {});\n",
              "          if (!dataTable) return;\n",
              "\n",
              "          const docLinkHtml = 'Like what you see? Visit the ' +\n",
              "            '<a target=\"_blank\" href=https://colab.research.google.com/notebooks/data_table.ipynb>data table notebook</a>'\n",
              "            + ' to learn more about interactive tables.';\n",
              "          element.innerHTML = '';\n",
              "          dataTable['output_type'] = 'display_data';\n",
              "          await google.colab.output.renderOutput(dataTable, element);\n",
              "          const docLink = document.createElement('div');\n",
              "          docLink.innerHTML = docLinkHtml;\n",
              "          element.appendChild(docLink);\n",
              "        }\n",
              "      </script>\n",
              "    </div>\n",
              "  </div>\n",
              "  "
            ]
          },
          "metadata": {},
          "execution_count": 7
        }
      ],
      "source": [
        "import pandas as pd\n",
        "df=pd.read_csv(\"/content/new/02-14-2018.csv\")\n",
        "df.head()"
      ]
    },
    {
      "cell_type": "code",
      "execution_count": null,
      "metadata": {
        "id": "4IKvNe83QvNl"
      },
      "outputs": [],
      "source": [
        "df.drop(['Timestamp','Flow Byts/s','Flow Pkts/s'],axis=1,inplace = True)"
      ]
    },
    {
      "cell_type": "code",
      "execution_count": null,
      "metadata": {
        "colab": {
          "base_uri": "https://localhost:8080/"
        },
        "id": "r9Fac5igT_7_",
        "outputId": "68319b07-16b4-499a-c41d-d158e606f82f"
      },
      "outputs": [
        {
          "output_type": "execute_result",
          "data": {
            "text/plain": [
              "(1048575, 77)"
            ]
          },
          "metadata": {},
          "execution_count": 9
        }
      ],
      "source": [
        "df.shape"
      ]
    },
    {
      "cell_type": "code",
      "execution_count": null,
      "metadata": {
        "id": "e3Sz_kg2ZGMw"
      },
      "outputs": [],
      "source": [
        "df.Label.replace(['Malicious', 'Benign'], [1, 0], inplace=True)"
      ]
    },
    {
      "cell_type": "code",
      "execution_count": null,
      "metadata": {
        "id": "T7W_G1JGJHMY"
      },
      "outputs": [],
      "source": [
        "df.dropna(inplace=True)"
      ]
    },
    {
      "cell_type": "code",
      "execution_count": null,
      "metadata": {
        "colab": {
          "base_uri": "https://localhost:8080/"
        },
        "id": "u13eRviiZAUs",
        "outputId": "be72ccff-e760-4c5f-ea65-32860cde5632"
      },
      "outputs": [
        {
          "output_type": "execute_result",
          "data": {
            "text/plain": [
              "<bound method NDFrame.head of          Dst Port  Protocol  Flow Duration  Tot Fwd Pkts  Tot Bwd Pkts  \\\n",
              "0               0         0      112641719             3             0   \n",
              "1               0         0      112641466             3             0   \n",
              "2               0         0      112638623             3             0   \n",
              "3              22         6        6453966            15            10   \n",
              "4              22         6        8804066            14            11   \n",
              "...           ...       ...            ...           ...           ...   \n",
              "1048570        80         6       10156986             5             5   \n",
              "1048571        80         6            117             2             0   \n",
              "1048572        80         6        5095331             3             1   \n",
              "1048573        80         6        5235511             3             1   \n",
              "1048574       443         6        5807256             6             4   \n",
              "\n",
              "         TotLen Fwd Pkts  TotLen Bwd Pkts  Fwd Pkt Len Max  Fwd Pkt Len Min  \\\n",
              "0                      0                0                0                0   \n",
              "1                      0                0                0                0   \n",
              "2                      0                0                0                0   \n",
              "3                   1239             2273              744                0   \n",
              "4                   1143             2209              744                0   \n",
              "...                  ...              ...              ...              ...   \n",
              "1048570             1089             1923              587                0   \n",
              "1048571                0                0                0                0   \n",
              "1048572                0                0                0                0   \n",
              "1048573                0                0                0                0   \n",
              "1048574              327              145              245                0   \n",
              "\n",
              "         Fwd Pkt Len Mean  ...  Fwd Seg Size Min  Active Mean  Active Std  \\\n",
              "0                0.000000  ...                 0          0.0         0.0   \n",
              "1                0.000000  ...                 0          0.0         0.0   \n",
              "2                0.000000  ...                 0          0.0         0.0   \n",
              "3               82.600000  ...                32          0.0         0.0   \n",
              "4               81.642857  ...                32          0.0         0.0   \n",
              "...                   ...  ...               ...          ...         ...   \n",
              "1048570        217.800000  ...                20          0.0         0.0   \n",
              "1048571          0.000000  ...                20          0.0         0.0   \n",
              "1048572          0.000000  ...                20          0.0         0.0   \n",
              "1048573          0.000000  ...                20          0.0         0.0   \n",
              "1048574         54.500000  ...                20     291569.0         0.0   \n",
              "\n",
              "         Active Max  Active Min   Idle Mean    Idle Std  Idle Max  Idle Min  \\\n",
              "0                 0           0  56320859.5  139.300036  56320958  56320761   \n",
              "1                 0           0  56320733.0  114.551299  56320814  56320652   \n",
              "2                 0           0  56319311.5  301.934596  56319525  56319098   \n",
              "3                 0           0         0.0    0.000000         0         0   \n",
              "4                 0           0         0.0    0.000000         0         0   \n",
              "...             ...         ...         ...         ...       ...       ...   \n",
              "1048570           0           0         0.0    0.000000         0         0   \n",
              "1048571           0           0         0.0    0.000000         0         0   \n",
              "1048572           0           0         0.0    0.000000         0         0   \n",
              "1048573           0           0         0.0    0.000000         0         0   \n",
              "1048574      291569      291569   5515650.0    0.000000   5515650   5515650   \n",
              "\n",
              "         Label  \n",
              "0            0  \n",
              "1            0  \n",
              "2            0  \n",
              "3            0  \n",
              "4            0  \n",
              "...        ...  \n",
              "1048570      0  \n",
              "1048571      0  \n",
              "1048572      0  \n",
              "1048573      0  \n",
              "1048574      0  \n",
              "\n",
              "[1048575 rows x 77 columns]>"
            ]
          },
          "metadata": {},
          "execution_count": 12
        }
      ],
      "source": [
        "df.head"
      ]
    },
    {
      "cell_type": "code",
      "source": [
        "import matplotlib.pyplot as plt\n",
        "a=df['Label'].value_counts()\n",
        "plt.bar(['Benign','Malicious'],a)"
      ],
      "metadata": {
        "colab": {
          "base_uri": "https://localhost:8080/",
          "height": 285
        },
        "id": "E9OMpww_snNU",
        "outputId": "67bc018a-55aa-42ae-8f65-4858be232df7"
      },
      "execution_count": null,
      "outputs": [
        {
          "output_type": "execute_result",
          "data": {
            "text/plain": [
              "<BarContainer object of 2 artists>"
            ]
          },
          "metadata": {},
          "execution_count": 27
        },
        {
          "output_type": "display_data",
          "data": {
            "text/plain": [
              "<Figure size 432x288 with 1 Axes>"
            ],
            "image/png": "[encoded data removed]"
          },
          "metadata": {
            "needs_background": "light"
          }
        }
      ]
    },
    {
      "cell_type": "code",
      "execution_count": null,
      "metadata": {
        "colab": {
          "base_uri": "https://localhost:8080/"
        },
        "id": "hufCnl4jZE_U",
        "outputId": "57e0bbc3-a739-49f1-bc5f-306c3a2295dd"
      },
      "outputs": [
        {
          "output_type": "stream",
          "name": "stdout",
          "text": [
            "<class 'pandas.core.frame.DataFrame'>\n",
            "Int64Index: 1048575 entries, 0 to 1048574\n",
            "Data columns (total 77 columns):\n",
            " #   Column             Non-Null Count    Dtype  \n",
            "---  ------             --------------    -----  \n",
            " 0   Dst Port           1048575 non-null  int64  \n",
            " 1   Protocol           1048575 non-null  int64  \n",
            " 2   Flow Duration      1048575 non-null  int64  \n",
            " 3   Tot Fwd Pkts       1048575 non-null  int64  \n",
            " 4   Tot Bwd Pkts       1048575 non-null  int64  \n",
            " 5   TotLen Fwd Pkts    1048575 non-null  int64  \n",
            " 6   TotLen Bwd Pkts    1048575 non-null  int64  \n",
            " 7   Fwd Pkt Len Max    1048575 non-null  int64  \n",
            " 8   Fwd Pkt Len Min    1048575 non-null  int64  \n",
            " 9   Fwd Pkt Len Mean   1048575 non-null  float64\n",
            " 10  Fwd Pkt Len Std    1048575 non-null  float64\n",
            " 11  Bwd Pkt Len Max    1048575 non-null  int64  \n",
            " 12  Bwd Pkt Len Min    1048575 non-null  int64  \n",
            " 13  Bwd Pkt Len Mean   1048575 non-null  float64\n",
            " 14  Bwd Pkt Len Std    1048575 non-null  float64\n",
            " 15  Flow IAT Mean      1048575 non-null  float64\n",
            " 16  Flow IAT Std       1048575 non-null  float64\n",
            " 17  Flow IAT Max       1048575 non-null  int64  \n",
            " 18  Flow IAT Min       1048575 non-null  int64  \n",
            " 19  Fwd IAT Tot        1048575 non-null  int64  \n",
            " 20  Fwd IAT Mean       1048575 non-null  float64\n",
            " 21  Fwd IAT Std        1048575 non-null  float64\n",
            " 22  Fwd IAT Max        1048575 non-null  int64  \n",
            " 23  Fwd IAT Min        1048575 non-null  int64  \n",
            " 24  Bwd IAT Tot        1048575 non-null  int64  \n",
            " 25  Bwd IAT Mean       1048575 non-null  float64\n",
            " 26  Bwd IAT Std        1048575 non-null  float64\n",
            " 27  Bwd IAT Max        1048575 non-null  int64  \n",
            " 28  Bwd IAT Min        1048575 non-null  int64  \n",
            " 29  Fwd PSH Flags      1048575 non-null  int64  \n",
            " 30  Bwd PSH Flags      1048575 non-null  int64  \n",
            " 31  Fwd URG Flags      1048575 non-null  int64  \n",
            " 32  Bwd URG Flags      1048575 non-null  int64  \n",
            " 33  Fwd Header Len     1048575 non-null  int64  \n",
            " 34  Bwd Header Len     1048575 non-null  int64  \n",
            " 35  Fwd Pkts/s         1048575 non-null  float64\n",
            " 36  Bwd Pkts/s         1048575 non-null  float64\n",
            " 37  Pkt Len Min        1048575 non-null  int64  \n",
            " 38  Pkt Len Max        1048575 non-null  int64  \n",
            " 39  Pkt Len Mean       1048575 non-null  float64\n",
            " 40  Pkt Len Std        1048575 non-null  float64\n",
            " 41  Pkt Len Var        1048575 non-null  float64\n",
            " 42  FIN Flag Cnt       1048575 non-null  int64  \n",
            " 43  SYN Flag Cnt       1048575 non-null  int64  \n",
            " 44  RST Flag Cnt       1048575 non-null  int64  \n",
            " 45  PSH Flag Cnt       1048575 non-null  int64  \n",
            " 46  ACK Flag Cnt       1048575 non-null  int64  \n",
            " 47  URG Flag Cnt       1048575 non-null  int64  \n",
            " 48  CWE Flag Count     1048575 non-null  int64  \n",
            " 49  ECE Flag Cnt       1048575 non-null  int64  \n",
            " 50  Down/Up Ratio      1048575 non-null  int64  \n",
            " 51  Pkt Size Avg       1048575 non-null  float64\n",
            " 52  Fwd Seg Size Avg   1048575 non-null  float64\n",
            " 53  Bwd Seg Size Avg   1048575 non-null  float64\n",
            " 54  Fwd Byts/b Avg     1048575 non-null  int64  \n",
            " 55  Fwd Pkts/b Avg     1048575 non-null  int64  \n",
            " 56  Fwd Blk Rate Avg   1048575 non-null  int64  \n",
            " 57  Bwd Byts/b Avg     1048575 non-null  int64  \n",
            " 58  Bwd Pkts/b Avg     1048575 non-null  int64  \n",
            " 59  Bwd Blk Rate Avg   1048575 non-null  int64  \n",
            " 60  Subflow Fwd Pkts   1048575 non-null  int64  \n",
            " 61  Subflow Fwd Byts   1048575 non-null  int64  \n",
            " 62  Subflow Bwd Pkts   1048575 non-null  int64  \n",
            " 63  Subflow Bwd Byts   1048575 non-null  int64  \n",
            " 64  Init Fwd Win Byts  1048575 non-null  int64  \n",
            " 65  Init Bwd Win Byts  1048575 non-null  int64  \n",
            " 66  Fwd Act Data Pkts  1048575 non-null  int64  \n",
            " 67  Fwd Seg Size Min   1048575 non-null  int64  \n",
            " 68  Active Mean        1048575 non-null  float64\n",
            " 69  Active Std         1048575 non-null  float64\n",
            " 70  Active Max         1048575 non-null  int64  \n",
            " 71  Active Min         1048575 non-null  int64  \n",
            " 72  Idle Mean          1048575 non-null  float64\n",
            " 73  Idle Std           1048575 non-null  float64\n",
            " 74  Idle Max           1048575 non-null  int64  \n",
            " 75  Idle Min           1048575 non-null  int64  \n",
            " 76  Label              1048575 non-null  int64  \n",
            "dtypes: float64(22), int64(55)\n",
            "memory usage: 624.0 MB\n"
          ]
        }
      ],
      "source": [
        "df.info()"
      ]
    },
    {
      "cell_type": "code",
      "execution_count": null,
      "metadata": {
        "colab": {
          "base_uri": "https://localhost:8080/"
        },
        "id": "1uC3wCnr5w3Z",
        "outputId": "afc2860c-55fa-43ca-a7cd-dc233b2eaf71"
      },
      "outputs": [
        {
          "output_type": "execute_result",
          "data": {
            "text/plain": [
              "False"
            ]
          },
          "metadata": {},
          "execution_count": 13
        }
      ],
      "source": [
        "import numpy as np\n",
        "np.any(np.isnan(df))"
      ]
    },
    {
      "cell_type": "code",
      "execution_count": null,
      "metadata": {
        "colab": {
          "base_uri": "https://localhost:8080/"
        },
        "id": "ilSU6PD3JvsI",
        "outputId": "2bf68a40-b376-427b-f444-e2f787cdd853"
      },
      "outputs": [
        {
          "output_type": "execute_result",
          "data": {
            "text/plain": [
              "False"
            ]
          },
          "metadata": {},
          "execution_count": 14
        }
      ],
      "source": [
        "df.isnull().values.any()"
      ]
    },
    {
      "cell_type": "code",
      "execution_count": null,
      "metadata": {
        "colab": {
          "base_uri": "https://localhost:8080/"
        },
        "id": "7bGvodESJz-h",
        "outputId": "1b647b88-dafd-4c21-9319-6805478f6ed4"
      },
      "outputs": [
        {
          "output_type": "execute_result",
          "data": {
            "text/plain": [
              "True"
            ]
          },
          "metadata": {},
          "execution_count": 15
        }
      ],
      "source": [
        "np.all(np.isfinite(df))"
      ]
    },
    {
      "cell_type": "code",
      "execution_count": null,
      "metadata": {
        "colab": {
          "base_uri": "https://localhost:8080/",
          "height": 411
        },
        "id": "BjpE2qGh6wQ9",
        "outputId": "112bc461-a43a-4c3c-a41b-fe024631a253"
      },
      "outputs": [
        {
          "output_type": "execute_result",
          "data": {
            "text/plain": [
              "           Dst Port      Protocol  Flow Duration  Tot Fwd Pkts  Tot Bwd Pkts  \\\n",
              "count  1.048575e+06  1.048575e+06   1.048575e+06  1.048575e+06  1.048575e+06   \n",
              "mean   4.876262e+03  8.107557e+00   6.255555e+06  6.206622e+00  7.211191e+00   \n",
              "std    1.444344e+04  4.460625e+00   1.260291e+09  4.447851e+01  1.048682e+02   \n",
              "min    0.000000e+00  0.000000e+00  -9.190110e+11  1.000000e+00  0.000000e+00   \n",
              "25%    2.200000e+01  6.000000e+00   7.000000e+00  1.000000e+00  1.000000e+00   \n",
              "50%    5.300000e+01  6.000000e+00   1.023000e+03  2.000000e+00  1.000000e+00   \n",
              "75%    4.430000e+02  6.000000e+00   4.066690e+05  7.000000e+00  6.000000e+00   \n",
              "max    6.553300e+04  1.700000e+01   1.200000e+08  5.115000e+03  9.198000e+03   \n",
              "\n",
              "       TotLen Fwd Pkts  TotLen Bwd Pkts  Fwd Pkt Len Max  Fwd Pkt Len Min  \\\n",
              "count     1.048575e+06     1.048575e+06     1.048575e+06     1.048575e+06   \n",
              "mean      4.479936e+02     4.521803e+03     1.745736e+02     8.389535e+00   \n",
              "std       1.573541e+04     1.515021e+05     2.876713e+02     1.948279e+01   \n",
              "min       0.000000e+00     0.000000e+00     0.000000e+00     0.000000e+00   \n",
              "25%       0.000000e+00     0.000000e+00     0.000000e+00     0.000000e+00   \n",
              "50%       3.600000e+01     5.500000e+01     3.400000e+01     0.000000e+00   \n",
              "75%       4.550000e+02     7.680000e+02     1.990000e+02     0.000000e+00   \n",
              "max       8.591554e+06     1.339773e+07     6.444000e+04     1.460000e+03   \n",
              "\n",
              "       Fwd Pkt Len Mean  ...  Fwd Seg Size Min   Active Mean    Active Std  \\\n",
              "count      1.048575e+06  ...      1.048575e+06  1.048575e+06  1.048575e+06   \n",
              "mean       3.879579e+01  ...      2.327970e+01  5.152449e+04  2.136151e+04   \n",
              "std        5.331882e+01  ...      1.106185e+01  5.815586e+05  2.186405e+05   \n",
              "min        0.000000e+00  ...      0.000000e+00  0.000000e+00  0.000000e+00   \n",
              "25%        0.000000e+00  ...      2.000000e+01  0.000000e+00  0.000000e+00   \n",
              "50%        2.566667e+01  ...      2.000000e+01  0.000000e+00  0.000000e+00   \n",
              "75%        5.550000e+01  ...      3.200000e+01  0.000000e+00  0.000000e+00   \n",
              "max        1.121703e+04  ...      4.800000e+01  1.102401e+08  5.723446e+07   \n",
              "\n",
              "         Active Max    Active Min     Idle Mean      Idle Std      Idle Max  \\\n",
              "count  1.048575e+06  1.048575e+06  1.048575e+06  1.048575e+06  1.048575e+06   \n",
              "mean   8.789157e+04  3.995477e+04  3.101206e+06  7.297218e+05  4.812391e+06   \n",
              "std    7.395725e+05  5.602693e+05  5.414780e+08  3.820031e+08  1.522117e+09   \n",
              "min    0.000000e+00  0.000000e+00  0.000000e+00  0.000000e+00  0.000000e+00   \n",
              "25%    0.000000e+00  0.000000e+00  0.000000e+00  0.000000e+00  0.000000e+00   \n",
              "50%    0.000000e+00  0.000000e+00  0.000000e+00  0.000000e+00  0.000000e+00   \n",
              "75%    0.000000e+00  0.000000e+00  0.000000e+00  0.000000e+00  0.000000e+00   \n",
              "max    1.102401e+08  1.102401e+08  3.394503e+11  2.432682e+11  9.797810e+11   \n",
              "\n",
              "           Idle Min         Label  \n",
              "count  1.048575e+06  1.048575e+06  \n",
              "mean   2.126920e+06  3.633016e-01  \n",
              "std    1.817013e+07  4.809509e-01  \n",
              "min    0.000000e+00  0.000000e+00  \n",
              "25%    0.000000e+00  0.000000e+00  \n",
              "50%    0.000000e+00  0.000000e+00  \n",
              "75%    0.000000e+00  1.000000e+00  \n",
              "max    1.260300e+10  1.000000e+00  \n",
              "\n",
              "[8 rows x 77 columns]"
            ],
            "text/html": [
              "\n",
              "  <div id=\"df-f86f7b68-bf85-4048-b701-849db8500cd6\">\n",
              "    <div class=\"colab-df-container\">\n",
              "      <div>\n",
              "<style scoped>\n",
              "    .dataframe tbody tr th:only-of-type {\n",
              "        vertical-align: middle;\n",
              "    }\n",
              "\n",
              "    .dataframe tbody tr th {\n",
              "        vertical-align: top;\n",
              "    }\n",
              "\n",
              "    .dataframe thead th {\n",
              "        text-align: right;\n",
              "    }\n",
              "</style>\n",
              "<table border=\"1\" class=\"dataframe\">\n",
              "  <thead>\n",
              "    <tr style=\"text-align: right;\">\n",
              "      <th></th>\n",
              "      <th>Dst Port</th>\n",
              "      <th>Protocol</th>\n",
              "      <th>Flow Duration</th>\n",
              "      <th>Tot Fwd Pkts</th>\n",
              "      <th>Tot Bwd Pkts</th>\n",
              "      <th>TotLen Fwd Pkts</th>\n",
              "      <th>TotLen Bwd Pkts</th>\n",
              "      <th>Fwd Pkt Len Max</th>\n",
              "      <th>Fwd Pkt Len Min</th>\n",
              "      <th>Fwd Pkt Len Mean</th>\n",
              "      <th>...</th>\n",
              "      <th>Fwd Seg Size Min</th>\n",
              "      <th>Active Mean</th>\n",
              "      <th>Active Std</th>\n",
              "      <th>Active Max</th>\n",
              "      <th>Active Min</th>\n",
              "      <th>Idle Mean</th>\n",
              "      <th>Idle Std</th>\n",
              "      <th>Idle Max</th>\n",
              "      <th>Idle Min</th>\n",
              "      <th>Label</th>\n",
              "    </tr>\n",
              "  </thead>\n",
              "  <tbody>\n",
              "    <tr>\n",
              "      <th>count</th>\n",
              "      <td>1.048575e+06</td>\n",
              "      <td>1.048575e+06</td>\n",
              "      <td>1.048575e+06</td>\n",
              "      <td>1.048575e+06</td>\n",
              "      <td>1.048575e+06</td>\n",
              "      <td>1.048575e+06</td>\n",
              "      <td>1.048575e+06</td>\n",
              "      <td>1.048575e+06</td>\n",
              "      <td>1.048575e+06</td>\n",
              "      <td>1.048575e+06</td>\n",
              "      <td>...</td>\n",
              "      <td>1.048575e+06</td>\n",
              "      <td>1.048575e+06</td>\n",
              "      <td>1.048575e+06</td>\n",
              "      <td>1.048575e+06</td>\n",
              "      <td>1.048575e+06</td>\n",
              "      <td>1.048575e+06</td>\n",
              "      <td>1.048575e+06</td>\n",
              "      <td>1.048575e+06</td>\n",
              "      <td>1.048575e+06</td>\n",
              "      <td>1.048575e+06</td>\n",
              "    </tr>\n",
              "    <tr>\n",
              "      <th>mean</th>\n",
              "      <td>4.876262e+03</td>\n",
              "      <td>8.107557e+00</td>\n",
              "      <td>6.255555e+06</td>\n",
              "      <td>6.206622e+00</td>\n",
              "      <td>7.211191e+00</td>\n",
              "      <td>4.479936e+02</td>\n",
              "      <td>4.521803e+03</td>\n",
              "      <td>1.745736e+02</td>\n",
              "      <td>8.389535e+00</td>\n",
              "      <td>3.879579e+01</td>\n",
              "      <td>...</td>\n",
              "      <td>2.327970e+01</td>\n",
              "      <td>5.152449e+04</td>\n",
              "      <td>2.136151e+04</td>\n",
              "      <td>8.789157e+04</td>\n",
              "      <td>3.995477e+04</td>\n",
              "      <td>3.101206e+06</td>\n",
              "      <td>7.297218e+05</td>\n",
              "      <td>4.812391e+06</td>\n",
              "      <td>2.126920e+06</td>\n",
              "      <td>3.633016e-01</td>\n",
              "    </tr>\n",
              "    <tr>\n",
              "      <th>std</th>\n",
              "      <td>1.444344e+04</td>\n",
              "      <td>4.460625e+00</td>\n",
              "      <td>1.260291e+09</td>\n",
              "      <td>4.447851e+01</td>\n",
              "      <td>1.048682e+02</td>\n",
              "      <td>1.573541e+04</td>\n",
              "      <td>1.515021e+05</td>\n",
              "      <td>2.876713e+02</td>\n",
              "      <td>1.948279e+01</td>\n",
              "      <td>5.331882e+01</td>\n",
              "      <td>...</td>\n",
              "      <td>1.106185e+01</td>\n",
              "      <td>5.815586e+05</td>\n",
              "      <td>2.186405e+05</td>\n",
              "      <td>7.395725e+05</td>\n",
              "      <td>5.602693e+05</td>\n",
              "      <td>5.414780e+08</td>\n",
              "      <td>3.820031e+08</td>\n",
              "      <td>1.522117e+09</td>\n",
              "      <td>1.817013e+07</td>\n",
              "      <td>4.809509e-01</td>\n",
              "    </tr>\n",
              "    <tr>\n",
              "      <th>min</th>\n",
              "      <td>0.000000e+00</td>\n",
              "      <td>0.000000e+00</td>\n",
              "      <td>-9.190110e+11</td>\n",
              "      <td>1.000000e+00</td>\n",
              "      <td>0.000000e+00</td>\n",
              "      <td>0.000000e+00</td>\n",
              "      <td>0.000000e+00</td>\n",
              "      <td>0.000000e+00</td>\n",
              "      <td>0.000000e+00</td>\n",
              "      <td>0.000000e+00</td>\n",
              "      <td>...</td>\n",
              "      <td>0.000000e+00</td>\n",
              "      <td>0.000000e+00</td>\n",
              "      <td>0.000000e+00</td>\n",
              "      <td>0.000000e+00</td>\n",
              "      <td>0.000000e+00</td>\n",
              "      <td>0.000000e+00</td>\n",
              "      <td>0.000000e+00</td>\n",
              "      <td>0.000000e+00</td>\n",
              "      <td>0.000000e+00</td>\n",
              "      <td>0.000000e+00</td>\n",
              "    </tr>\n",
              "    <tr>\n",
              "      <th>25%</th>\n",
              "      <td>2.200000e+01</td>\n",
              "      <td>6.000000e+00</td>\n",
              "      <td>7.000000e+00</td>\n",
              "      <td>1.000000e+00</td>\n",
              "      <td>1.000000e+00</td>\n",
              "      <td>0.000000e+00</td>\n",
              "      <td>0.000000e+00</td>\n",
              "      <td>0.000000e+00</td>\n",
              "      <td>0.000000e+00</td>\n",
              "      <td>0.000000e+00</td>\n",
              "      <td>...</td>\n",
              "      <td>2.000000e+01</td>\n",
              "      <td>0.000000e+00</td>\n",
              "      <td>0.000000e+00</td>\n",
              "      <td>0.000000e+00</td>\n",
              "      <td>0.000000e+00</td>\n",
              "      <td>0.000000e+00</td>\n",
              "      <td>0.000000e+00</td>\n",
              "      <td>0.000000e+00</td>\n",
              "      <td>0.000000e+00</td>\n",
              "      <td>0.000000e+00</td>\n",
              "    </tr>\n",
              "    <tr>\n",
              "      <th>50%</th>\n",
              "      <td>5.300000e+01</td>\n",
              "      <td>6.000000e+00</td>\n",
              "      <td>1.023000e+03</td>\n",
              "      <td>2.000000e+00</td>\n",
              "      <td>1.000000e+00</td>\n",
              "      <td>3.600000e+01</td>\n",
              "      <td>5.500000e+01</td>\n",
              "      <td>3.400000e+01</td>\n",
              "      <td>0.000000e+00</td>\n",
              "      <td>2.566667e+01</td>\n",
              "      <td>...</td>\n",
              "      <td>2.000000e+01</td>\n",
              "      <td>0.000000e+00</td>\n",
              "      <td>0.000000e+00</td>\n",
              "      <td>0.000000e+00</td>\n",
              "      <td>0.000000e+00</td>\n",
              "      <td>0.000000e+00</td>\n",
              "      <td>0.000000e+00</td>\n",
              "      <td>0.000000e+00</td>\n",
              "      <td>0.000000e+00</td>\n",
              "      <td>0.000000e+00</td>\n",
              "    </tr>\n",
              "    <tr>\n",
              "      <th>75%</th>\n",
              "      <td>4.430000e+02</td>\n",
              "      <td>6.000000e+00</td>\n",
              "      <td>4.066690e+05</td>\n",
              "      <td>7.000000e+00</td>\n",
              "      <td>6.000000e+00</td>\n",
              "      <td>4.550000e+02</td>\n",
              "      <td>7.680000e+02</td>\n",
              "      <td>1.990000e+02</td>\n",
              "      <td>0.000000e+00</td>\n",
              "      <td>5.550000e+01</td>\n",
              "      <td>...</td>\n",
              "      <td>3.200000e+01</td>\n",
              "      <td>0.000000e+00</td>\n",
              "      <td>0.000000e+00</td>\n",
              "      <td>0.000000e+00</td>\n",
              "      <td>0.000000e+00</td>\n",
              "      <td>0.000000e+00</td>\n",
              "      <td>0.000000e+00</td>\n",
              "      <td>0.000000e+00</td>\n",
              "      <td>0.000000e+00</td>\n",
              "      <td>1.000000e+00</td>\n",
              "    </tr>\n",
              "    <tr>\n",
              "      <th>max</th>\n",
              "      <td>6.553300e+04</td>\n",
              "      <td>1.700000e+01</td>\n",
              "      <td>1.200000e+08</td>\n",
              "      <td>5.115000e+03</td>\n",
              "      <td>9.198000e+03</td>\n",
              "      <td>8.591554e+06</td>\n",
              "      <td>1.339773e+07</td>\n",
              "      <td>6.444000e+04</td>\n",
              "      <td>1.460000e+03</td>\n",
              "      <td>1.121703e+04</td>\n",
              "      <td>...</td>\n",
              "      <td>4.800000e+01</td>\n",
              "      <td>1.102401e+08</td>\n",
              "      <td>5.723446e+07</td>\n",
              "      <td>1.102401e+08</td>\n",
              "      <td>1.102401e+08</td>\n",
              "      <td>3.394503e+11</td>\n",
              "      <td>2.432682e+11</td>\n",
              "      <td>9.797810e+11</td>\n",
              "      <td>1.260300e+10</td>\n",
              "      <td>1.000000e+00</td>\n",
              "    </tr>\n",
              "  </tbody>\n",
              "</table>\n",
              "<p>8 rows × 77 columns</p>\n",
              "</div>\n",
              "      <button class=\"colab-df-convert\" onclick=\"convertToInteractive('df-f86f7b68-bf85-4048-b701-849db8500cd6')\"\n",
              "              title=\"Convert this dataframe to an interactive table.\"\n",
              "              style=\"display:none;\">\n",
              "        \n",
              "  <svg xmlns=\"http://www.w3.org/2000/svg\" height=\"24px\"viewBox=\"0 0 24 24\"\n",
              "       width=\"24px\">\n",
              "    <path d=\"M0 0h24v24H0V0z\" fill=\"none\"/>\n",
              "    <path d=\"M18.56 5.44l.94 2.06.94-2.06 2.06-.94-2.06-.94-.94-2.06-.94 2.06-2.06.94zm-11 1L8.5 8.5l.94-2.06 2.06-.94-2.06-.94L8.5 2.5l-.94 2.06-2.06.94zm10 10l.94 2.06.94-2.06 2.06-.94-2.06-.94-.94-2.06-.94 2.06-2.06.94z\"/><path d=\"M17.41 7.96l-1.37-1.37c-.4-.4-.92-.59-1.43-.59-.52 0-1.04.2-1.43.59L10.3 9.45l-7.72 7.72c-.78.78-.78 2.05 0 2.83L4 21.41c.39.39.9.59 1.41.59.51 0 1.02-.2 1.41-.59l7.78-7.78 2.81-2.81c.8-.78.8-2.07 0-2.86zM5.41 20L4 18.59l7.72-7.72 1.47 1.35L5.41 20z\"/>\n",
              "  </svg>\n",
              "      </button>\n",
              "      \n",
              "  <style>\n",
              "    .colab-df-container {\n",
              "      display:flex;\n",
              "      flex-wrap:wrap;\n",
              "      gap: 12px;\n",
              "    }\n",
              "\n",
              "    .colab-df-convert {\n",
              "      background-color: #E8F0FE;\n",
              "      border: none;\n",
              "      border-radius: 50%;\n",
              "      cursor: pointer;\n",
              "      display: none;\n",
              "      fill: #1967D2;\n",
              "      height: 32px;\n",
              "      padding: 0 0 0 0;\n",
              "      width: 32px;\n",
              "    }\n",
              "\n",
              "    .colab-df-convert:hover {\n",
              "      background-color: #E2EBFA;\n",
              "      box-shadow: 0px 1px 2px rgba(60, 64, 67, 0.3), 0px 1px 3px 1px rgba(60, 64, 67, 0.15);\n",
              "      fill: #174EA6;\n",
              "    }\n",
              "\n",
              "    [theme=dark] .colab-df-convert {\n",
              "      background-color: #3B4455;\n",
              "      fill: #D2E3FC;\n",
              "    }\n",
              "\n",
              "    [theme=dark] .colab-df-convert:hover {\n",
              "      background-color: #434B5C;\n",
              "      box-shadow: 0px 1px 3px 1px rgba(0, 0, 0, 0.15);\n",
              "      filter: drop-shadow(0px 1px 2px rgba(0, 0, 0, 0.3));\n",
              "      fill: #FFFFFF;\n",
              "    }\n",
              "  </style>\n",
              "\n",
              "      <script>\n",
              "        const buttonEl =\n",
              "          document.querySelector('#df-f86f7b68-bf85-4048-b701-849db8500cd6 button.colab-df-convert');\n",
              "        buttonEl.style.display =\n",
              "          google.colab.kernel.accessAllowed ? 'block' : 'none';\n",
              "\n",
              "        async function convertToInteractive(key) {\n",
              "          const element = document.querySelector('#df-f86f7b68-bf85-4048-b701-849db8500cd6');\n",
              "          const dataTable =\n",
              "            await google.colab.kernel.invokeFunction('convertToInteractive',\n",
              "                                                     [key], {});\n",
              "          if (!dataTable) return;\n",
              "\n",
              "          const docLinkHtml = 'Like what you see? Visit the ' +\n",
              "            '<a target=\"_blank\" href=https://colab.research.google.com/notebooks/data_table.ipynb>data table notebook</a>'\n",
              "            + ' to learn more about interactive tables.';\n",
              "          element.innerHTML = '';\n",
              "          dataTable['output_type'] = 'display_data';\n",
              "          await google.colab.output.renderOutput(dataTable, element);\n",
              "          const docLink = document.createElement('div');\n",
              "          docLink.innerHTML = docLinkHtml;\n",
              "          element.appendChild(docLink);\n",
              "        }\n",
              "      </script>\n",
              "    </div>\n",
              "  </div>\n",
              "  "
            ]
          },
          "metadata": {},
          "execution_count": 11
        }
      ],
      "source": [
        "df.describe()"
      ]
    },
    {
      "cell_type": "code",
      "execution_count": null,
      "metadata": {
        "id": "oqqGtPpWal81"
      },
      "outputs": [],
      "source": [
        "X=df.drop('Label',axis=1)\n",
        "y=df['Label']\n",
        "\n"
      ]
    },
    {
      "cell_type": "code",
      "execution_count": null,
      "metadata": {
        "id": "h-inMX2UcyOJ"
      },
      "outputs": [],
      "source": [
        "from sklearn.model_selection import train_test_split\n",
        "X_train, X_test, y_train, y_test = train_test_split(X, y, test_size=0.15, random_state=0,shuffle=True)"
      ]
    },
    {
      "cell_type": "code",
      "source": [
        "print(X_train.shape)\n",
        "print(X_test.shape)\n",
        "print(y_train.shape)\n",
        "print(y_test.shape)"
      ],
      "metadata": {
        "colab": {
          "base_uri": "https://localhost:8080/"
        },
        "id": "C-1tXQ6E1FoK",
        "outputId": "f8359edf-5790-4b3d-9be5-bb82ac08e193"
      },
      "execution_count": null,
      "outputs": [
        {
          "output_type": "stream",
          "name": "stdout",
          "text": [
            "(891288, 76)\n",
            "(157287, 76)\n",
            "(891288,)\n",
            "(157287,)\n"
          ]
        }
      ]
    },
    {
      "cell_type": "code",
      "execution_count": null,
      "metadata": {
        "id": "ISeHNLgD6kQa",
        "colab": {
          "base_uri": "https://localhost:8080/"
        },
        "outputId": "a453d734-c360-4265-bde5-19db6c82b17b"
      },
      "outputs": [
        {
          "output_type": "stream",
          "name": "stderr",
          "text": [
            "/usr/local/lib/python3.7/dist-packages/sklearn/linear_model/_logistic.py:818: ConvergenceWarning: lbfgs failed to converge (status=1):\n",
            "STOP: TOTAL NO. of ITERATIONS REACHED LIMIT.\n",
            "\n",
            "Increase the number of iterations (max_iter) or scale the data as shown in:\n",
            "    https://scikit-learn.org/stable/modules/preprocessing.html\n",
            "Please also refer to the documentation for alternative solver options:\n",
            "    https://scikit-learn.org/stable/modules/linear_model.html#logistic-regression\n",
            "  extra_warning_msg=_LOGISTIC_SOLVER_CONVERGENCE_MSG,\n"
          ]
        }
      ],
      "source": [
        "from sklearn.linear_model import LogisticRegression\n",
        "clf=LogisticRegression(C=0.417, class_weight='balanced', dual=False,\n",
        "                   fit_intercept=True, intercept_scaling=1, l1_ratio=None,\n",
        "                   max_iter=100, multi_class='auto', n_jobs=None, penalty='l2',\n",
        "                   random_state=None, solver='lbfgs', tol=0.0001, verbose=0,\n",
        "                   warm_start=False).fit(X_train,y_train)"
      ]
    },
    {
      "cell_type": "code",
      "execution_count": null,
      "metadata": {
        "colab": {
          "base_uri": "https://localhost:8080/"
        },
        "id": "aYj6zHZj5l2Q",
        "outputId": "5fa3728b-68d4-49dc-89b8-e474ee3ee009"
      },
      "outputs": [
        {
          "output_type": "stream",
          "name": "stdout",
          "text": [
            "0.9765097152537785\n",
            "0.9725034025288389\n",
            "0.9811589822425537\n"
          ]
        }
      ],
      "source": [
        "from sklearn.metrics import accuracy_score, f1_score, precision_score, recall_score, classification_report, confusion_matrix\n",
        "\n",
        "y_pred = clf.predict(X_test)\n",
        "print(f1_score(y_test, y_pred, average=\"macro\"))\n",
        "\n",
        "print(precision_score(y_test, y_pred, average=\"macro\"))\n",
        "print(recall_score(y_test, y_pred, average=\"macro\")) "
      ]
    },
    {
      "cell_type": "code",
      "execution_count": null,
      "metadata": {
        "colab": {
          "base_uri": "https://localhost:8080/"
        },
        "id": "77SwbXjy5yCV",
        "outputId": "75a74bf1-8074-41a2-899d-0f08b85329b7"
      },
      "outputs": [
        {
          "output_type": "stream",
          "name": "stdout",
          "text": [
            "Confusion matrix:\n",
            "[[88366 11850]\n",
            " [   63 57008]]\n",
            "Test Accuracy : 0.9242594747181904\n",
            "Reacll : [0.88175541 0.99889611]\n",
            "Test Precision : [0.99928756 0.82790671]\n"
          ]
        }
      ],
      "source": [
        "from sklearn.metrics import accuracy_score, f1_score, precision_score, recall_score, classification_report, confusion_matrix\n",
        "y_pred=clf.predict(X_test)\n",
        "from sklearn.metrics import confusion_matrix\n",
        "print(\"Confusion matrix:\")\n",
        "print(confusion_matrix(y_test, y_pred))\n",
        "# Accuracy\n",
        "from sklearn.metrics import accuracy_score\n",
        "print(\"Test Accuracy :\",end=\" \")\n",
        "print(accuracy_score(y_test, y_pred))\n",
        "# Recall\n",
        "from sklearn.metrics import recall_score\n",
        "print(\"Reacll :\",end=\" \")\n",
        "print(recall_score(y_test, y_pred, average=None))\n",
        "# Precision\n",
        "from sklearn.metrics import precision_score\n",
        "print(\"Test Precision :\",end=\" \")\n",
        "print(precision_score(y_test, y_pred, average=None))"
      ]
    },
    {
      "cell_type": "markdown",
      "source": [
        "Saving model"
      ],
      "metadata": {
        "id": "ZZ7HnCWJ54Wb"
      }
    },
    {
      "cell_type": "code",
      "source": [
        "import pickle\n",
        "filename = '/content/First_model.sav'\n",
        "pickle.dump(clf, open(filename, 'wb'))"
      ],
      "metadata": {
        "id": "h42dsEpR5HjE"
      },
      "execution_count": null,
      "outputs": []
    },
    {
      "cell_type": "markdown",
      "source": [
        "Loading model"
      ],
      "metadata": {
        "id": "LWl4Yvth6Xy0"
      }
    },
    {
      "cell_type": "code",
      "source": [
        "# load the model from disk\n",
        "loaded_model = pickle.load(open(filename, 'rb'))\n",
        "result = loaded_model.score(X_test, Y_test)\n",
        "print(result)"
      ],
      "metadata": {
        "id": "7bBlCg5h6aVq"
      },
      "execution_count": null,
      "outputs": []
    },
    {
      "cell_type": "code",
      "execution_count": null,
      "metadata": {
        "colab": {
          "base_uri": "https://localhost:8080/"
        },
        "id": "NNWlHhgIqrmu",
        "outputId": "895e491d-1564-4dce-8f9a-73a5ff311a34"
      },
      "outputs": [
        {
          "output_type": "execute_result",
          "data": {
            "text/plain": [
              "0.9403257600893489"
            ]
          },
          "metadata": {},
          "execution_count": 18
        }
      ],
      "source": [
        "import numpy as np\n",
        "from sklearn.metrics import roc_auc_score\n",
        "\n",
        "roc_auc_score(y_test, y_pred)\n"
      ]
    },
    {
      "cell_type": "markdown",
      "metadata": {
        "id": "VmDevshe7AJN"
      },
      "source": [
        "2ND Model"
      ]
    },
    {
      "cell_type": "code",
      "execution_count": null,
      "metadata": {
        "id": "XbzuymZsqgqh"
      },
      "outputs": [],
      "source": [
        "import pandas as pd\n",
        "df1=pd.read_csv(\"/content/new/02-15-2018.csv\")\n",
        "df1.head()\n",
        "df1.drop(['Timestamp','Flow Byts/s','Flow Pkts/s'],axis=1,inplace = True)\n",
        "df1.Label.replace(['Malicious', 'Benign'], [1, 0], inplace=True)\n",
        "df1.dropna(inplace=True)"
      ]
    },
    {
      "cell_type": "code",
      "source": [
        "import matplotlib.pyplot as plt\n",
        "a=df1['Label'].value_counts()\n",
        "plt.bar(['Benign','Malicious'],a)"
      ],
      "metadata": {
        "colab": {
          "base_uri": "https://localhost:8080/",
          "height": 293
        },
        "id": "P48tE35lu6MM",
        "outputId": "ef71f61a-832b-44ac-d7c0-b6c086b0d883"
      },
      "execution_count": null,
      "outputs": [
        {
          "output_type": "execute_result",
          "data": {
            "text/plain": [
              "<BarContainer object of 2 artists>"
            ]
          },
          "metadata": {},
          "execution_count": 30
        },
        {
          "output_type": "display_data",
          "data": {
            "text/plain": [
              "<Figure size 432x288 with 1 Axes>"
            ],
            "image/png": "[encoded data removed]"
          },
          "metadata": {
            "needs_background": "light"
          }
        }
      ]
    },
    {
      "cell_type": "code",
      "execution_count": null,
      "metadata": {
        "id": "HWakqd1yubiD"
      },
      "outputs": [],
      "source": [
        "X1=df1.drop('Label',axis=1)\n",
        "y_test=df1['Label']\n",
        "\n",
        "\n"
      ]
    },
    {
      "cell_type": "code",
      "source": [
        "from sklearn.model_selection import train_test_split\n",
        "X_train, X_test, y_train, y_test = train_test_split(X1, y_test, test_size=0.15, random_state=0,shuffle=True)"
      ],
      "metadata": {
        "id": "jry6ASHY6J1C"
      },
      "execution_count": null,
      "outputs": []
    },
    {
      "cell_type": "code",
      "source": [
        "print(X_train.shape)\n",
        "print(X_test.shape)\n",
        "print(y_train.shape)\n",
        "print(y_test.shape)\n",
        "print(df1.shape)"
      ],
      "metadata": {
        "colab": {
          "base_uri": "https://localhost:8080/"
        },
        "id": "qUBNucKS1TKs",
        "outputId": "1ac9136f-b64b-4c1b-ba6e-10ce6b095cfc"
      },
      "execution_count": null,
      "outputs": [
        {
          "output_type": "stream",
          "name": "stdout",
          "text": [
            "(891288, 76)\n",
            "(157287, 76)\n",
            "(891288,)\n",
            "(157287,)\n",
            "(1048575, 77)\n"
          ]
        }
      ]
    },
    {
      "cell_type": "code",
      "source": [
        "from sklearn.neighbors import KNeighborsClassifier\n",
        "clf=KNeighborsClassifier(algorithm='auto', leaf_size=30, metric='minkowski',\n",
        "                     metric_params=None, n_jobs=None, n_neighbors=5, p=2,\n",
        "                     weights='uniform')\n",
        "clf.fit(X_train,y_train)\n"
      ],
      "metadata": {
        "colab": {
          "base_uri": "https://localhost:8080/"
        },
        "id": "7LbDXN5ZvZc4",
        "outputId": "4220fe0e-6832-46c6-ead3-790d6b2fb6d8"
      },
      "execution_count": null,
      "outputs": [
        {
          "output_type": "execute_result",
          "data": {
            "text/plain": [
              "KNeighborsClassifier()"
            ]
          },
          "metadata": {},
          "execution_count": 21
        }
      ]
    },
    {
      "cell_type": "code",
      "source": [
        "y_pred = clf.predict(X_test)\n",
        "print(f1_score(y_test, y_pred, average=\"macro\"))\n",
        "print(precision_score(y_test, y_pred, average=\"macro\"))\n",
        "print(recall_score(y_test, y_pred, average=\"macro\")) "
      ],
      "metadata": {
        "id": "XvwVP5wXOqRu",
        "colab": {
          "base_uri": "https://localhost:8080/"
        },
        "outputId": "9cb7f087-5688-47e7-88db-3e581ee594c5"
      },
      "execution_count": null,
      "outputs": [
        {
          "output_type": "stream",
          "name": "stdout",
          "text": [
            "0.9952160237461904\n",
            "0.9926183006131607\n",
            "0.9978446315917608\n"
          ]
        }
      ]
    },
    {
      "cell_type": "code",
      "source": [
        "from sklearn.metrics import accuracy_score\n",
        "print(accuracy_score(y_test, clf.predict(X_test)))\n",
        "y_pred=clf.predict(X_test)\n",
        "from sklearn.metrics import confusion_matrix\n",
        "print(\"Confusion matrix:\")\n",
        "print(confusion_matrix(y_test, y_pred))\n",
        "# Accuracy\n",
        "from sklearn.metrics import accuracy_score\n",
        "print(\"Test Accuracy :\",end=\" \")\n",
        "print(accuracy_score(y_test, y_pred))\n",
        "# Recall\n",
        "from sklearn.metrics import recall_score\n",
        "print(\"Reacll :\",end=\" \")\n",
        "print(recall_score(y_test, y_pred, average=None))\n",
        "# Precision\n",
        "from sklearn.metrics import precision_score\n",
        "print(\"Test Precision :\",end=\" \")\n",
        "print(precision_score(y_test, y_pred, average=None))"
      ],
      "metadata": {
        "id": "xT5RYl12MIrr",
        "colab": {
          "base_uri": "https://localhost:8080/"
        },
        "outputId": "8f0ad6b6-52dd-4bab-9eb8-118543d5d396"
      },
      "execution_count": null,
      "outputs": [
        {
          "output_type": "stream",
          "name": "stdout",
          "text": [
            "0.9990781183441734\n",
            "Confusion matrix:\n",
            "[[149232    117]\n",
            " [    28   7910]]\n",
            "Test Accuracy : 0.9990781183441734\n",
            "Reacll : [0.9992166  0.99647266]\n",
            "Test Precision : [0.99981241 0.98542419]\n"
          ]
        }
      ]
    },
    {
      "cell_type": "markdown",
      "source": [
        "Saving 2nd model"
      ],
      "metadata": {
        "id": "3k5cxB996pER"
      }
    },
    {
      "cell_type": "code",
      "source": [
        "import pickle\n",
        "filename = '/content/Second_model.sav'\n",
        "pickle.dump(clf, open(filename, 'wb'))"
      ],
      "metadata": {
        "id": "A4AAM0xE6rq7"
      },
      "execution_count": null,
      "outputs": []
    },
    {
      "cell_type": "markdown",
      "source": [
        "6th"
      ],
      "metadata": {
        "id": "AC9x9wODB-9f"
      }
    },
    {
      "cell_type": "code",
      "execution_count": null,
      "metadata": {
        "id": "tjZIXSoWvKwR"
      },
      "outputs": [],
      "source": [
        "import pandas as pd\n",
        "df1=pd.read_csv(\"/content/new/02-22-2018.csv\")\n",
        "df1.head()\n",
        "df1.drop(['Timestamp','Flow Byts/s','Flow Pkts/s'],axis=1,inplace = True)\n",
        "df1.Label.replace(['Malicious', 'Benign'], [1, 0], inplace=True)\n",
        "df1.dropna(inplace=True)\n",
        "X1=df1.drop('Label',axis=1)\n",
        "y1=df1['Label']\n",
        "from sklearn.model_selection import train_test_split\n",
        "X_train, X_test, y_train, y_test = train_test_split(X1, y1, test_size=0.15, random_state=0,shuffle=True)\n",
        "\n",
        "\n"
      ]
    },
    {
      "cell_type": "code",
      "source": [
        "import matplotlib.pyplot as plt\n",
        "a=df1['Label'].value_counts()\n",
        "plt.bar(['Benign','Malicious'],a)"
      ],
      "metadata": {
        "colab": {
          "base_uri": "https://localhost:8080/",
          "height": 293
        },
        "id": "DyJU_dwmvGMc",
        "outputId": "a4fce920-6579-42bf-942e-9510cbc621b0"
      },
      "execution_count": null,
      "outputs": [
        {
          "output_type": "execute_result",
          "data": {
            "text/plain": [
              "<BarContainer object of 2 artists>"
            ]
          },
          "metadata": {},
          "execution_count": 32
        },
        {
          "output_type": "display_data",
          "data": {
            "text/plain": [
              "<Figure size 432x288 with 1 Axes>"
            ],
            "image/png": "[encoded data removed]"
          },
          "metadata": {
            "needs_background": "light"
          }
        }
      ]
    },
    {
      "cell_type": "code",
      "source": [
        "print(X_train.shape)\n",
        "print(X_test.shape)\n",
        "print(y_train.shape)\n",
        "print(y_test.shape)\n",
        "print(df1.shape)"
      ],
      "metadata": {
        "colab": {
          "base_uri": "https://localhost:8080/"
        },
        "id": "Nux7x6LV2_J6",
        "outputId": "32b6a287-e07c-4dbf-ae0d-310b497121eb"
      },
      "execution_count": null,
      "outputs": [
        {
          "output_type": "stream",
          "name": "stdout",
          "text": [
            "(891288, 76)\n",
            "(157287, 76)\n",
            "(891288,)\n",
            "(157287,)\n",
            "(1048575, 77)\n"
          ]
        }
      ]
    },
    {
      "cell_type": "code",
      "source": [
        "from sklearn.linear_model import LogisticRegression\n",
        "clf=LogisticRegression(C=7.653, class_weight={}, dual=False, fit_intercept=True,\n",
        "                   intercept_scaling=1, l1_ratio=None, max_iter=100,\n",
        "                   multi_class='auto', n_jobs=None, penalty='l2',\n",
        "                   random_state=None, solver='lbfgs', tol=0.0001, verbose=0,\n",
        "                   warm_start=False).fit(X_train,y_train)"
      ],
      "metadata": {
        "id": "OZk9gw17KdzZ"
      },
      "execution_count": null,
      "outputs": []
    },
    {
      "cell_type": "code",
      "source": [
        "y_pred = clf.predict(X_test)\n",
        "print(f1_score(y_test, y_pred, average=\"macro\"))\n",
        "print(precision_score(y_test, y_pred, average=\"macro\"))\n",
        "print(recall_score(y_test, y_pred, average=\"macro\")) "
      ],
      "metadata": {
        "id": "GnmomOGUREz6",
        "colab": {
          "base_uri": "https://localhost:8080/"
        },
        "outputId": "3f84e736-0bba-487f-a396-785f95448506"
      },
      "execution_count": null,
      "outputs": [
        {
          "output_type": "stream",
          "name": "stdout",
          "text": [
            "0.7285110159852611\n",
            "0.9998791894246237\n",
            "0.6481481481481481\n"
          ]
        }
      ]
    },
    {
      "cell_type": "code",
      "source": [
        "y_pred=clf.predict(X_test)\n",
        "from sklearn.metrics import confusion_matrix\n",
        "print(\"Confusion matrix:\")\n",
        "print(confusion_matrix(y_test, y_pred))\n",
        "# Accuracy\n",
        "from sklearn.metrics import accuracy_score\n",
        "print(\"Test Accuracy :\",end=\" \")\n",
        "print(accuracy_score(y_test, y_pred))\n",
        "# Recall\n",
        "from sklearn.metrics import recall_score\n",
        "print(\"Reacll :\",end=\" \")\n",
        "print(recall_score(y_test, y_pred, average=None))\n",
        "# Precision\n",
        "from sklearn.metrics import precision_score\n",
        "print(\"Test Precision :\",end=\" \")\n",
        "print(precision_score(y_test, y_pred, average=None))"
      ],
      "metadata": {
        "colab": {
          "base_uri": "https://localhost:8080/"
        },
        "id": "IOkeQyF91G8V",
        "outputId": "1b955d95-93a7-4264-9872-30dc88ab2ca5"
      },
      "execution_count": null,
      "outputs": [
        {
          "output_type": "stream",
          "name": "stdout",
          "text": [
            "Confusion matrix:\n",
            "[[157233      0]\n",
            " [    38     16]]\n",
            "Test Accuracy : 0.9997584034281282\n",
            "Reacll : [1.        0.2962963]\n",
            "Test Precision : [0.99975838 1.        ]\n"
          ]
        }
      ]
    },
    {
      "cell_type": "markdown",
      "source": [
        "Saving 6th model"
      ],
      "metadata": {
        "id": "4k7kEPiM63dG"
      }
    },
    {
      "cell_type": "code",
      "source": [
        "import pickle\n",
        "filename = '/content/Sixth_model.sav'\n",
        "pickle.dump(clf, open(filename, 'wb'))"
      ],
      "metadata": {
        "id": "OKQUUKK51x5Y"
      },
      "execution_count": null,
      "outputs": []
    },
    {
      "cell_type": "markdown",
      "source": [
        "Loading models"
      ],
      "metadata": {
        "id": "QBeeYJSiAa2U"
      }
    },
    {
      "cell_type": "code",
      "source": [
        "# load the model from disk\n",
        "import pickle\n",
        "!pip install sklearn\n",
        "import sklearn.neighbors._base\n",
        "First_model = pickle.load(open('/content/drive/MyDrive/BI/First_model.sav', 'rb'))\n",
        "Second_model=pickle.load(open('/content/drive/MyDrive/BI/Second_model.sav', 'rb'))\n",
        "Sixth_model=pickle.load(open('/content/drive/MyDrive/BI/Sixth_model.sav', 'rb'))"
      ],
      "metadata": {
        "id": "vr7i65oL7wnx",
        "colab": {
          "base_uri": "https://localhost:8080/",
          "height": 532
        },
        "outputId": "1a623594-88f2-4760-d00e-3507b0f9e8fc"
      },
      "execution_count": null,
      "outputs": [
        {
          "output_type": "stream",
          "name": "stdout",
          "text": [
            "Requirement already satisfied: sklearn in /usr/local/lib/python3.7/dist-packages (0.0)\n",
            "Requirement already satisfied: scikit-learn in /usr/local/lib/python3.7/dist-packages (from sklearn) (1.0.2)\n",
            "Requirement already satisfied: numpy>=1.14.6 in /usr/local/lib/python3.7/dist-packages (from scikit-learn->sklearn) (1.21.6)\n",
            "Requirement already satisfied: scipy>=1.1.0 in /usr/local/lib/python3.7/dist-packages (from scikit-learn->sklearn) (1.4.1)\n",
            "Requirement already satisfied: threadpoolctl>=2.0.0 in /usr/local/lib/python3.7/dist-packages (from scikit-learn->sklearn) (3.1.0)\n",
            "Requirement already satisfied: joblib>=0.11 in /usr/local/lib/python3.7/dist-packages (from scikit-learn->sklearn) (1.1.0)\n"
          ]
        },
        {
          "output_type": "stream",
          "name": "stderr",
          "text": [
            "/usr/local/lib/python3.7/dist-packages/sklearn/base.py:338: UserWarning: Trying to unpickle estimator LogisticRegression from version 0.23.2 when using version 1.0.2. This might lead to breaking code or invalid results. Use at your own risk. For more info please refer to:\n",
            "https://scikit-learn.org/stable/modules/model_persistence.html#security-maintainability-limitations\n",
            "  UserWarning,\n"
          ]
        },
        {
          "output_type": "error",
          "ename": "ModuleNotFoundError",
          "evalue": "ignored",
          "traceback": [
            "\u001b[0;31m---------------------------------------------------------------------------\u001b[0m",
            "\u001b[0;31mModuleNotFoundError\u001b[0m                       Traceback (most recent call last)",
            "\u001b[0;32m<ipython-input-31-04c60b68e04f>\u001b[0m in \u001b[0;36m<module>\u001b[0;34m()\u001b[0m\n\u001b[1;32m      4\u001b[0m \u001b[0;32mimport\u001b[0m \u001b[0msklearn\u001b[0m\u001b[0;34m.\u001b[0m\u001b[0mneighbors\u001b[0m\u001b[0;34m.\u001b[0m\u001b[0m_base\u001b[0m\u001b[0;34m\u001b[0m\u001b[0;34m\u001b[0m\u001b[0m\n\u001b[1;32m      5\u001b[0m \u001b[0mFirst_model\u001b[0m \u001b[0;34m=\u001b[0m \u001b[0mpickle\u001b[0m\u001b[0;34m.\u001b[0m\u001b[0mload\u001b[0m\u001b[0;34m(\u001b[0m\u001b[0mopen\u001b[0m\u001b[0;34m(\u001b[0m\u001b[0;34m'/content/drive/MyDrive/BI/First_model.sav'\u001b[0m\u001b[0;34m,\u001b[0m \u001b[0;34m'rb'\u001b[0m\u001b[0;34m)\u001b[0m\u001b[0;34m)\u001b[0m\u001b[0;34m\u001b[0m\u001b[0;34m\u001b[0m\u001b[0m\n\u001b[0;32m----> 6\u001b[0;31m \u001b[0mSecond_model\u001b[0m\u001b[0;34m=\u001b[0m\u001b[0mpickle\u001b[0m\u001b[0;34m.\u001b[0m\u001b[0mload\u001b[0m\u001b[0;34m(\u001b[0m\u001b[0mopen\u001b[0m\u001b[0;34m(\u001b[0m\u001b[0;34m'/content/drive/MyDrive/BI/Second_model.sav'\u001b[0m\u001b[0;34m,\u001b[0m \u001b[0;34m'rb'\u001b[0m\u001b[0;34m)\u001b[0m\u001b[0;34m)\u001b[0m\u001b[0;34m\u001b[0m\u001b[0;34m\u001b[0m\u001b[0m\n\u001b[0m\u001b[1;32m      7\u001b[0m \u001b[0mSixth_model\u001b[0m\u001b[0;34m=\u001b[0m\u001b[0mpickle\u001b[0m\u001b[0;34m.\u001b[0m\u001b[0mload\u001b[0m\u001b[0;34m(\u001b[0m\u001b[0mopen\u001b[0m\u001b[0;34m(\u001b[0m\u001b[0;34m'/content/drive/MyDrive/BI/Sixth_model.sav'\u001b[0m\u001b[0;34m,\u001b[0m \u001b[0;34m'rb'\u001b[0m\u001b[0;34m)\u001b[0m\u001b[0;34m)\u001b[0m\u001b[0;34m\u001b[0m\u001b[0;34m\u001b[0m\u001b[0m\n",
            "\u001b[0;31mModuleNotFoundError\u001b[0m: No module named 'sklearn.neighbors._dist_metrics'",
            "",
            "\u001b[0;31m---------------------------------------------------------------------------\u001b[0;32m\nNOTE: If your import is failing due to a missing package, you can\nmanually install dependencies using either !pip or !apt.\n\nTo view examples of installing some common dependencies, click the\n\"Open Examples\" button below.\n\u001b[0;31m---------------------------------------------------------------------------\u001b[0m\n"
          ],
          "errorDetails": {
            "actions": [
              {
                "action": "open_url",
                "actionText": "Open Examples",
                "url": "/notebooks/snippets/importing_libraries.ipynb"
              }
            ]
          }
        }
      ]
    },
    {
      "cell_type": "code",
      "source": [
        "import pandas as pd\n",
        "df1=pd.read_csv(\"/content/new/02-15-2018.csv\")\n",
        "df1.drop(['Timestamp','Flow Byts/s','Flow Pkts/s'],axis=1,inplace = True)\n",
        "df1.Label.replace(['Malicious', 'Benign'], [1, 0], inplace=True)\n",
        "df1.dropna(inplace=True)\n",
        "X1=df1.drop('Label',axis=1)\n",
        "y1=df1['Label']\n",
        "X1.head()\n",
        "\n"
      ],
      "metadata": {
        "id": "7kM4Zph2A1RD"
      },
      "execution_count": null,
      "outputs": []
    },
    {
      "cell_type": "code",
      "source": [
        "print(X1.shape)\n",
        "print(y1.shape)"
      ],
      "metadata": {
        "colab": {
          "base_uri": "https://localhost:8080/"
        },
        "id": "1Mzq2-Zx38y7",
        "outputId": "85eedd53-cebd-405e-a5d9-52106ad479e0"
      },
      "execution_count": null,
      "outputs": [
        {
          "output_type": "stream",
          "name": "stdout",
          "text": [
            "(1048575, 76)\n",
            "(1048575,)\n"
          ]
        }
      ]
    },
    {
      "cell_type": "code",
      "source": [
        "p1=First_model.predict(X1)\n",
        "p2=Second_model.predict(X1)\n",
        "p6=Sixth_model.predict(X1)\n"
      ],
      "metadata": {
        "id": "HBxFVTOtQXHK"
      },
      "execution_count": null,
      "outputs": []
    },
    {
      "cell_type": "code",
      "source": [
        "y_pred=[]\n",
        "one=0\n",
        "zero=0\n",
        "for i in range(len(p1)):\n",
        "  one=0\n",
        "  zero=0\n",
        "  if p1[i]==0:\n",
        "    zero+=1\n",
        "  elif p1[i]==1:\n",
        "    one+=1\n",
        "  if p2[i]==0:\n",
        "    zero+=1\n",
        "  elif p2[i]==1:\n",
        "    one+=1\n",
        "  if p6[i]==0:\n",
        "    zero+=1\n",
        "  elif p6[i]==1:\n",
        "    one+=1\n",
        "  if one>=zero:\n",
        "    y_pred.append(1)\n",
        "  else:\n",
        "    y_pred.append(0)\n",
        "\n",
        "  \n"
      ],
      "metadata": {
        "id": "joVoKerrRw54"
      },
      "execution_count": null,
      "outputs": []
    },
    {
      "cell_type": "code",
      "source": [
        "#y_pred = clf.predict(X_test)\n",
        "print(f1_score(y_test, y_pred, average=\"macro\"))\n",
        "print(precision_score(y_test, y_pred, average=\"macro\"))\n",
        "print(recall_score(y_test, y_pred, average=\"macro\")) "
      ],
      "metadata": {
        "id": "usRMJqG21U-g"
      },
      "execution_count": null,
      "outputs": []
    },
    {
      "cell_type": "code",
      "source": [
        "\n",
        "from sklearn.metrics import confusion_matrix\n",
        "print(\"Confusion matrix:\")\n",
        "print(confusion_matrix(y1, y_pred))\n",
        "# Accuracy\n",
        "from sklearn.metrics import accuracy_score\n",
        "print(\"Test Accuracy :\",end=\" \")\n",
        "print(accuracy_score(y1, y_pred))\n",
        "# Recall\n",
        "from sklearn.metrics import recall_score\n",
        "print(\"Reacll :\",end=\" \")\n",
        "print(recall_score(y1, y_pred, average=None))\n",
        "# Precision\n",
        "from sklearn.metrics import precision_score\n",
        "print(\"Test Precision :\",end=\" \")\n",
        "print(precision_score(y1, y_pred, average=None))"
      ],
      "metadata": {
        "colab": {
          "base_uri": "https://localhost:8080/"
        },
        "id": "6YjDolWQTDEj",
        "outputId": "4a57fe34-1d78-4cca-8cda-d60e83fc67be"
      },
      "execution_count": null,
      "outputs": [
        {
          "output_type": "stream",
          "name": "stdout",
          "text": [
            "Confusion matrix:\n",
            "[[996052     25]\n",
            " [ 51558    940]]\n",
            "Test Accuracy : 0.9508065708223065\n",
            "Reacll : [0.9999749  0.01790544]\n",
            "Test Precision : [0.95078512 0.97409326]\n"
          ]
        }
      ]
    },
    {
      "cell_type": "code",
      "source": [
        ""
      ],
      "metadata": {
        "id": "rsKUQD1UTlFl"
      },
      "execution_count": null,
      "outputs": []
    }
  ],
  "metadata": {
    "colab": {
      "collapsed_sections": [],
      "name": "Intrusion detection system.ipynb",
      "provenance": []
    },
    "kernelspec": {
      "display_name": "Python 3",
      "name": "python3"
    },
    "language_info": {
      "name": "python"
    }
  },
  "nbformat": 4,
  "nbformat_minor": 0
}